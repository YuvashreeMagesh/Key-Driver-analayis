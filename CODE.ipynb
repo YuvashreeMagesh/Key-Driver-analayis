{
  "nbformat": 4,
  "nbformat_minor": 0,
  "metadata": {
    "colab": {
      "provenance": []
    },
    "kernelspec": {
      "name": "python3",
      "display_name": "Python 3"
    },
    "language_info": {
      "name": "python"
    }
  },
  "cells": [
    {
      "cell_type": "markdown",
      "source": [
        "**PROBLEM NUMBER - 1**\n",
        "\n",
        "# **KEY DRIVER ANALYSIS ON IMDb  MOVIE REVIEWS DATASET**\n",
        "\n",
        "NAME : YUVASHREE M\n",
        "\n",
        "REG.NO: 20MIC0150\n",
        "\n",
        "EMAIL : yuvamagesh28@gmail.com"
      ],
      "metadata": {
        "id": "LyAQT4BSXXfF"
      }
    },
    {
      "cell_type": "code",
      "execution_count": null,
      "metadata": {
        "colab": {
          "base_uri": "https://localhost:8080/"
        },
        "id": "Aiy6cdOm9-Y3",
        "outputId": "81b37d62-1533-43d8-9bcd-b0f0d75642d6",
        "collapsed": true
      },
      "outputs": [
        {
          "output_type": "stream",
          "name": "stderr",
          "text": [
            "[nltk_data] Downloading package punkt to /root/nltk_data...\n",
            "[nltk_data]   Package punkt is already up-to-date!\n",
            "[nltk_data] Downloading package stopwords to /root/nltk_data...\n",
            "[nltk_data]   Package stopwords is already up-to-date!\n",
            "[nltk_data] Downloading package wordnet to /root/nltk_data...\n",
            "[nltk_data]   Package wordnet is already up-to-date!\n"
          ]
        },
        {
          "output_type": "execute_result",
          "data": {
            "text/plain": [
              "True"
            ]
          },
          "metadata": {},
          "execution_count": 82
        }
      ],
      "source": [
        "import pandas as pd\n",
        "import re\n",
        "import nltk\n",
        "from nltk.corpus import stopwords\n",
        "from nltk.tokenize import word_tokenize\n",
        "from nltk.stem import WordNetLemmatizer\n",
        "from bs4 import BeautifulSoup\n",
        "import string\n",
        "import emoji\n",
        "# Download NLTK resources\n",
        "\n",
        "nltk.download('punkt')\n",
        "nltk.download('stopwords')\n",
        "nltk.download('wordnet')"
      ]
    },
    {
      "cell_type": "code",
      "source": [
        "# Load IMDb movie review dataset\n",
        "df = pd.read_csv('/content/IMDB Dataset.csv')\n",
        "print(df.head(10))\n"
      ],
      "metadata": {
        "colab": {
          "base_uri": "https://localhost:8080/"
        },
        "id": "Px3EcMvj-QGz",
        "outputId": "e197c0d1-a02d-4c1a-b03a-b1494568be62"
      },
      "execution_count": null,
      "outputs": [
        {
          "output_type": "stream",
          "name": "stdout",
          "text": [
            "                                              review sentiment\n",
            "0  One of the other reviewers has mentioned that ...  positive\n",
            "1  A wonderful little production. <br /><br />The...  positive\n",
            "2  I thought this was a wonderful way to spend ti...  positive\n",
            "3  Basically there's a family where a little boy ...  negative\n",
            "4  Petter Mattei's \"Love in the Time of Money\" is...  positive\n",
            "5  Probably my all-time favorite movie, a story o...  positive\n",
            "6  I sure would like to see a resurrection of a u...  positive\n",
            "7  This show was an amazing, fresh & innovative i...  negative\n",
            "8  Encouraged by the positive comments about this...  negative\n",
            "9  If you like original gut wrenching laughter yo...  positive\n"
          ]
        }
      ]
    },
    {
      "cell_type": "markdown",
      "source": [
        "#**Data preprocessing**"
      ],
      "metadata": {
        "id": "I8yxc81rWUbs"
      }
    },
    {
      "cell_type": "code",
      "source": [
        "def preprocess_text(text):\n",
        "    # Remove HTML tags using BeautifulSoup\n",
        "    text = BeautifulSoup(text, \"html.parser\").get_text()\n",
        "    # Convert to lowercase\n",
        "    text = text.lower()\n",
        "    # Remove URLs\n",
        "    text = re.sub(r'http\\S+', '', text)\n",
        "\n",
        "    # Replace emojis with text\n",
        "    text = emoji.demojize(text)\n",
        "\n",
        "    # Remove punctuation\n",
        "    text = text.translate(str.maketrans('', '', string.punctuation))\n",
        "\n",
        "    # Remove numbers\n",
        "    text = re.sub(r'\\d+', '', text)\n",
        "    # Remove special characters, numbers, and punctuation\n",
        "    text = re.sub(r'[^a-zA-Z\\s]', '', text)\n",
        "\n",
        "    # Tokenization using NLTK\n",
        "    tokens = word_tokenize(text)\n",
        "\n",
        "    # Remove stopwords\n",
        "    stop_words = set(stopwords.words('english'))\n",
        "    tokens = [word for word in tokens if word not in stop_words]\n",
        "\n",
        "    # Lemmatization using NLTK\n",
        "    lemmatizer = WordNetLemmatizer()\n",
        "    tokens = [lemmatizer.lemmatize(word) for word in tokens]\n",
        "\n",
        "    # Join tokens back into a string\n",
        "    text = ' '.join(tokens)\n",
        "\n",
        "    return text\n",
        "\n",
        "df['clean_review'] = df['review'].apply(preprocess_text)\n",
        "print(df[['clean_review']].head())"
      ],
      "metadata": {
        "colab": {
          "base_uri": "https://localhost:8080/"
        },
        "id": "UTWvCHCkFUFP",
        "outputId": "bf575d2c-0ab5-4b7b-bd31-fd506467ed63"
      },
      "execution_count": null,
      "outputs": [
        {
          "output_type": "stream",
          "name": "stderr",
          "text": [
            "<ipython-input-84-c8d6371bff81>:3: MarkupResemblesLocatorWarning: The input looks more like a filename than markup. You may want to open this file and pass the filehandle into Beautiful Soup.\n",
            "  text = BeautifulSoup(text, \"html.parser\").get_text()\n"
          ]
        },
        {
          "output_type": "stream",
          "name": "stdout",
          "text": [
            "                                        clean_review\n",
            "0  one reviewer mentioned watching oz episode you...\n",
            "1  wonderful little production filming technique ...\n",
            "2  thought wonderful way spend time hot summer we...\n",
            "3  basically there family little boy jake think t...\n",
            "4  petter matteis love time money visually stunni...\n"
          ]
        }
      ]
    },
    {
      "cell_type": "markdown",
      "source": [
        "# **Keyword Extraction:**\n",
        "\n",
        "* TF-IDF (Term Frequency-Inverse Document Frequency) : Compute TF-IDF scores for each term in the movie reviews to identify terms that are statistically significant within individual reviews.\n",
        "\n",
        "* TextRank algorithm : Apply for the graph to rank words based on their importance within the entire dataset, considering the relationships between words.\n",
        "\n",
        "\n",
        "\n",
        "\n",
        "\n",
        "\n",
        "\n"
      ],
      "metadata": {
        "id": "iM5C9jqsl4mt"
      }
    },
    {
      "cell_type": "code",
      "source": [
        "from sklearn.feature_extraction.text import TfidfVectorizer\n",
        "from nltk.tokenize import word_tokenize, sent_tokenize\n",
        "from nltk.probability import FreqDist\n",
        "\n",
        "nltk.download('averaged_perceptron_tagger')"
      ],
      "metadata": {
        "colab": {
          "base_uri": "https://localhost:8080/"
        },
        "id": "OMd1FWBEWERg",
        "outputId": "d99ae41c-8721-44e8-95cb-53ab9f77cf23",
        "collapsed": true
      },
      "execution_count": null,
      "outputs": [
        {
          "output_type": "stream",
          "name": "stderr",
          "text": [
            "[nltk_data] Downloading package averaged_perceptron_tagger to\n",
            "[nltk_data]     /root/nltk_data...\n",
            "[nltk_data]   Package averaged_perceptron_tagger is already up-to-\n",
            "[nltk_data]       date!\n"
          ]
        },
        {
          "output_type": "execute_result",
          "data": {
            "text/plain": [
              "True"
            ]
          },
          "metadata": {},
          "execution_count": 85
        }
      ]
    },
    {
      "cell_type": "code",
      "source": [
        "# Initialize TF-IDF Vectorizer\n",
        "tfidf_vectorizer = TfidfVectorizer(max_features=1000)\n",
        "\n",
        "tfidf_matrix = tfidf_vectorizer.fit_transform(df['clean_review'])\n",
        "\n",
        "tfidf_feature_names = tfidf_vectorizer.get_feature_names_out()\n",
        "\n",
        "# Function to extract keywords using TF-IDF\n",
        "def extract_keywords_tfidf(text):\n",
        "    tokens = word_tokenize(text)\n",
        "    tokens = [token for token in tokens if token in tfidf_feature_names]\n",
        "    return tokens\n",
        "\n",
        "# Function to preprocess text and extract keywords using NLTK TextRank\n",
        "def extract_keywords_textrank(text):\n",
        "\n",
        "    sentences = sent_tokenize(text)\n",
        "\n",
        "    words = [word for word in word_tokenize(text) if word.lower() not in stopwords.words('english') and word.isalnum()]\n",
        "    freq_dist = FreqDist(words)\n",
        "\n",
        "    # Sort words by frequency\n",
        "    sorted_words = sorted(freq_dist.items(), key=lambda x: x[1], reverse=True)\n",
        "\n",
        "    # Select top keywords based on frequency\n",
        "    top_keywords = [word for word, freq in sorted_words[:10]]  # Adjust number of top keywords as needed\n",
        "\n",
        "    return top_keywords\n",
        "\n",
        "# Extract keywords using both methods and compare\n",
        "for i, clean_review in enumerate(df['clean_review'][:5]):  # Process the first 5 reviews as an example\n",
        "    print(f\"Review {i + 1}:\")\n",
        "    print(\"Keywords by TF-IDF:\", extract_keywords_tfidf(clean_review))\n",
        "    print(\"Keywords by TextRank:\", extract_keywords_textrank(clean_review))\n",
        "    print(\"=\" * 50)"
      ],
      "metadata": {
        "colab": {
          "base_uri": "https://localhost:8080/"
        },
        "id": "0xmyG0Bme75F",
        "outputId": "cfd9c296-391a-492c-cf4f-5b826ff43ea4"
      },
      "execution_count": null,
      "outputs": [
        {
          "output_type": "stream",
          "name": "stdout",
          "text": [
            "Review 1:\n",
            "Keywords by TF-IDF: ['one', 'mentioned', 'watching', 'episode', 'youll', 'right', 'exactly', 'happened', 'first', 'thing', 'scene', 'violence', 'set', 'right', 'word', 'go', 'show', 'show', 'pull', 'drug', 'sex', 'violence', 'classic', 'use', 'called', 'given', 'state', 'focus', 'city', 'front', 'face', 'high', 'city', 'home', 'italian', 'death', 'never', 'far', 'would', 'say', 'main', 'show', 'due', 'fact', 'go', 'show', 'wouldnt', 'forget', 'pretty', 'picture', 'audience', 'forget', 'forget', 'doesnt', 'mess', 'around', 'first', 'episode', 'ever', 'saw', 'couldnt', 'say', 'watched', 'taste', 'got', 'high', 'level', 'violence', 'violence', 'kill', 'order', 'get', 'away', 'well', 'middle', 'class', 'turned', 'due', 'lack', 'street', 'experience', 'watching', 'may', 'become', 'get', 'touch', 'side']\n",
            "Keywords by TextRank: ['oz', 'violence', 'show', 'prison', 'forget', 'watching', 'episode', 'right', 'first', 'struck']\n",
            "==================================================\n",
            "Review 2:\n",
            "Keywords by TF-IDF: ['wonderful', 'little', 'production', 'give', 'sometimes', 'sense', 'entire', 'piece', 'actor', 'extremely', 'well', 'michael', 'got', 'voice', 'truly', 'see', 'editing', 'well', 'worth', 'watching', 'written', 'piece', 'production', 'one', 'great', 'master', 'comedy', 'life', 'really', 'come', 'home', 'little', 'thing', 'fantasy', 'rather', 'use', 'dream', 'play', 'particularly', 'scene', 'set', 'particularly', 'flat', 'every', 'well', 'done']\n",
            "Keywords by TextRank: ['well', 'little', 'production', 'technique', 'realism', 'piece', 'particularly', 'wonderful', 'filming', 'unassuming']\n",
            "==================================================\n",
            "Review 3:\n",
            "Keywords by TF-IDF: ['thought', 'wonderful', 'way', 'spend', 'time', 'hot', 'air', 'theater', 'watching', 'comedy', 'plot', 'dialogue', 'character', 'even', 'well', 'killer', 'may', 'disappointed', 'realize', 'match', 'point', 'thought', 'still', 'control', 'style', 'many', 'id', 'one', 'comedy', 'year', 'say', 'ive', 'never', 'tone', 'image', 'right', 'average', 'young', 'may', 'career', 'interesting', 'great', 'comedy', 'go', 'see', 'friend']\n",
            "Keywords by TextRank: ['comedy', 'thought', 'may', 'wonderful', 'way', 'spend', 'time', 'hot', 'summer', 'weekend']\n",
            "==================================================\n",
            "Review 4:\n",
            "Keywords by TF-IDF: ['basically', 'there', 'family', 'little', 'boy', 'think', 'there', 'zombie', 'parent', 'fighting', 'movie', 'suddenly', 'decides', 'become', 'kill', 'first', 'youre', 'going', 'make', 'film', 'must', 'decide', 'thriller', 'drama', 'drama', 'movie', 'parent', 'like', 'real', 'life', 'totally', 'film', 'expected', 'see', 'similar', 'movie', 'instead', 'watched', 'drama', 'thriller', 'well', 'playing', 'parent', 'dialog', 'shot']\n",
            "Keywords by TextRank: ['jake', 'parent', 'movie', 'drama', 'closet', 'film', 'thriller', 'basically', 'family', 'little']\n",
            "==================================================\n",
            "Review 5:\n",
            "Keywords by TF-IDF: ['love', 'time', 'money', 'film', 'watch', 'mr', 'offer', 'human', 'movie', 'seems', 'telling', 'money', 'power', 'success', 'people', 'different', 'situation', 'play', 'theme', 'director', 'action', 'present', 'time', 'new', 'york', 'different', 'character', 'meet', 'one', 'one', 'way', 'another', 'next', 'person', 'one', 'seems', 'know', 'previous', 'point', 'film', 'look', 'taken', 'see', 'people', 'live', 'world', 'live', 'thing', 'one', 'get', 'soul', 'picture', 'different', 'stage', 'one', 'big', 'city', 'exactly', 'best', 'place', 'human', 'find', 'one', 'case', 'people', 'acting', 'good', 'mr', 'direction', 'michael', 'rest', 'talented', 'cast', 'make', 'character', 'come', 'wish', 'mr', 'good', 'next', 'work']\n",
            "Keywords by TextRank: ['one', 'mr', 'people', 'different', 'matteis', 'time', 'money', 'film', 'mattei', 'u']\n",
            "==================================================\n"
          ]
        }
      ]
    },
    {
      "cell_type": "markdown",
      "source": [
        " **Scores from both TF-IDF and TextRank algorithms were combined to generate a comprehensive list of keywords.**"
      ],
      "metadata": {
        "id": "vjTZnt_fnN7i"
      }
    },
    {
      "cell_type": "code",
      "source": [
        "from collections import Counter\n",
        "# Extract keywords using both methods and compute combined score\n",
        "def compute_combined_keywords(df):\n",
        "    tfidf_keywords = {}\n",
        "    textrank_keywords = {}\n",
        "\n",
        "    # Extract TF-IDF keywords and their scores\n",
        "    for text in df['clean_review']:\n",
        "        for word in extract_keywords_tfidf(text):\n",
        "            if word in tfidf_keywords:\n",
        "                tfidf_keywords[word] += 1\n",
        "            else:\n",
        "                tfidf_keywords[word] = 1\n",
        "\n",
        "    # Normalize TF-IDF scores\n",
        "    max_tfidf_score = max(tfidf_keywords.values())\n",
        "    tfidf_keywords = {word: score / max_tfidf_score for word, score in tfidf_keywords.items()}\n",
        "\n",
        "    # Extract TextRank keywords and their scores\n",
        "    for text in df['clean_review']:\n",
        "        for word in extract_keywords_textrank(text):\n",
        "            if word in textrank_keywords:\n",
        "                textrank_keywords[word] += 1\n",
        "            else:\n",
        "                textrank_keywords[word] = 1\n",
        "\n",
        "    # Normalize TextRank scores\n",
        "    max_textrank_score = max(textrank_keywords.values())\n",
        "    textrank_keywords = {word: score / max_textrank_score for word, score in textrank_keywords.items()}\n",
        "\n",
        "    # Combine scores from both methods\n",
        "    combined_keywords = Counter(tfidf_keywords) + Counter(textrank_keywords)\n",
        "    return combined_keywords\n",
        "\n",
        "combined_keywords = compute_combined_keywords(df)\n",
        "\n",
        "# Convert combined scores to DataFrame for analysis\n",
        "combined_keywords_df = pd.DataFrame.from_dict(combined_keywords, orient='index', columns=['combined_score'])\n",
        "combined_keywords_df = combined_keywords_df.sort_values(by='combined_score', ascending=False)\n",
        "\n",
        "# Display top keywords\n",
        "print(combined_keywords_df.head(20))\n"
      ],
      "metadata": {
        "colab": {
          "base_uri": "https://localhost:8080/"
        },
        "id": "VcHxYfj5r6Zq",
        "outputId": "fbc6f671-4b51-415d-f6cb-9aa6bfb519d8"
      },
      "execution_count": null,
      "outputs": [
        {
          "output_type": "stream",
          "name": "stdout",
          "text": [
            "           combined_score\n",
            "movie            2.000000\n",
            "film             1.752934\n",
            "one              1.026722\n",
            "like             0.721419\n",
            "good             0.510146\n",
            "time             0.504953\n",
            "character        0.469075\n",
            "story            0.431038\n",
            "really           0.404482\n",
            "would            0.395897\n",
            "get              0.394622\n",
            "even             0.388789\n",
            "see              0.384974\n",
            "make             0.366798\n",
            "scene            0.333474\n",
            "bad              0.314272\n",
            "great            0.313246\n",
            "much             0.293704\n",
            "people           0.293476\n",
            "well             0.291267\n"
          ]
        }
      ]
    },
    {
      "cell_type": "code",
      "source": [
        "\n",
        "print(\"Top Keywords using TF-IDF:\")\n",
        "print(extract_keywords_tfidf(clean_review))\n",
        "print(\"\\nTop Keywords using TextRank:\")\n",
        "print(top_keywords)\n",
        "print(\"\\nTop  Keywords (Combined):\")\n",
        "print( combined_keywords_df.head(10))"
      ],
      "metadata": {
        "colab": {
          "base_uri": "https://localhost:8080/"
        },
        "id": "f8mkfjCovDVA",
        "outputId": "c8f2c484-7099-43c8-aa90-ce6ba8acd835"
      },
      "execution_count": null,
      "outputs": [
        {
          "output_type": "stream",
          "name": "stdout",
          "text": [
            "Top Keywords using TF-IDF:\n",
            "['love', 'time', 'money', 'film', 'watch', 'mr', 'offer', 'human', 'movie', 'seems', 'telling', 'money', 'power', 'success', 'people', 'different', 'situation', 'play', 'theme', 'director', 'action', 'present', 'time', 'new', 'york', 'different', 'character', 'meet', 'one', 'one', 'way', 'another', 'next', 'person', 'one', 'seems', 'know', 'previous', 'point', 'film', 'look', 'taken', 'see', 'people', 'live', 'world', 'live', 'thing', 'one', 'get', 'soul', 'picture', 'different', 'stage', 'one', 'big', 'city', 'exactly', 'best', 'place', 'human', 'find', 'one', 'case', 'people', 'acting', 'good', 'mr', 'direction', 'michael', 'rest', 'talented', 'cast', 'make', 'character', 'come', 'wish', 'mr', 'good', 'next', 'work']\n",
            "\n",
            "Top Keywords using TextRank:\n",
            "['movie', 'film', 'one', 'like', 'good', 'time', 'character', 'story', 'really', 'see']\n",
            "\n",
            "Top  Keywords (Combined):\n",
            "           combined_score\n",
            "movie            2.000000\n",
            "film             1.752934\n",
            "one              1.026722\n",
            "like             0.721419\n",
            "good             0.510146\n",
            "time             0.504953\n",
            "character        0.469075\n",
            "story            0.431038\n",
            "really           0.404482\n",
            "would            0.395897\n"
          ]
        }
      ]
    },
    {
      "cell_type": "markdown",
      "source": [
        "**Sentiment Analysis:**\n",
        "\n",
        "* SVM (Support Vector Machine) classifier was trained on a portion of the dataset to predict sentiment based on TF-IDF features.\n"
      ],
      "metadata": {
        "id": "KrdPJduuoZkh"
      }
    },
    {
      "cell_type": "code",
      "source": [
        "from sklearn.model_selection import train_test_split\n",
        "from sklearn.feature_extraction.text import TfidfVectorizer\n",
        "from sklearn.svm import SVC\n",
        "from sklearn.metrics import accuracy_score, classification_report,confusion_matrix\n",
        "from vaderSentiment.vaderSentiment import SentimentIntensityAnalyzer\n",
        "\n",
        "\n",
        "# Split dataset into train and test sets\n",
        "X_train, X_test, y_train, y_test = train_test_split(df['clean_review'], df['sentiment'], test_size=0.2, random_state=42)\n",
        "\n",
        "# TF-IDF Vectorization\n",
        "vectorizer = TfidfVectorizer(max_features=1000)\n",
        "X_train_tfidf = vectorizer.fit_transform(X_train)\n",
        "X_test_tfidf = vectorizer.transform(X_test)\n",
        "\n",
        "# SVM Classifier\n",
        "svm_clf = SVC(kernel='linear')\n",
        "svm_clf.fit(X_train_tfidf, y_train)\n",
        "\n",
        "# Predictions\n",
        "y_pred = svm_clf.predict(X_test_tfidf)\n",
        "print(y_pred)\n",
        "# Accuracy\n",
        "accuracy = accuracy_score(y_test, y_pred)\n",
        "print(f\"Accuracy: {accuracy:.2f}\")\n",
        "#Confusion matrix\n",
        "\n",
        "confusion_matrix_result = confusion_matrix(y_test, y_pred)\n",
        "print(\"Confusion Matrix:\\n\", confusion_matrix_result)\n",
        "\n",
        "# Classification Report\n",
        "print(\"Classification  Report : \",classification_report(y_test, y_pred))\n"
      ],
      "metadata": {
        "colab": {
          "base_uri": "https://localhost:8080/"
        },
        "id": "rmFGsM0cAXK8",
        "outputId": "8bffc752-0400-4603-d9fc-08a42cd3aa66"
      },
      "execution_count": null,
      "outputs": [
        {
          "output_type": "stream",
          "name": "stdout",
          "text": [
            "['negative' 'positive' 'negative' ... 'positive' 'negative' 'positive']\n",
            "Accuracy: 0.86\n",
            "Confusion Matrix:\n",
            " [[4186  775]\n",
            " [ 631 4408]]\n",
            "Classification  Report :                precision    recall  f1-score   support\n",
            "\n",
            "    negative       0.87      0.84      0.86      4961\n",
            "    positive       0.85      0.87      0.86      5039\n",
            "\n",
            "    accuracy                           0.86     10000\n",
            "   macro avg       0.86      0.86      0.86     10000\n",
            "weighted avg       0.86      0.86      0.86     10000\n",
            "\n"
          ]
        }
      ]
    },
    {
      "cell_type": "markdown",
      "source": [
        "**VADER sentiment analysis library was used to classify sentiment positive, negative, or neutral for each review.**"
      ],
      "metadata": {
        "id": "nxl-dM7Qomyf"
      }
    },
    {
      "cell_type": "code",
      "source": [
        "# Sentiment Analysis using VADER\n",
        "analyzer = SentimentIntensityAnalyzer()\n",
        "\n",
        "# Function to analyze sentiment using VADER\n",
        "def analyze_sentiment_vader(text):\n",
        "    sentiment_scores = analyzer.polarity_scores(text)\n",
        "    if sentiment_scores['compound'] >= 0.05:\n",
        "        return 'positive'\n",
        "    elif sentiment_scores['compound'] <= -0.05:\n",
        "        return 'negative'\n",
        "    else:\n",
        "        return 'neutral'\n",
        "\n",
        "# Analyze sentiment for each review in test set using VADER\n",
        "y_pred_vader = X_test.apply(analyze_sentiment_vader)\n",
        "# Perform sentiment analysis on the first review as an example\n",
        "review_text = df['clean_review'][0]\n",
        "\n",
        "sentiment, compound_score = analyze_sentiment(review_text)\n",
        "print(\"Sentiment Analysis using VADER:\")\n",
        "print(\"Sentiment:\", sentiment)\n",
        "print(\"Compound Score:\", compound_score)\n",
        "\n",
        "# Apply VADER sentiment analysis to each review\n",
        "df['predicted_sentiment'] = df['review'].apply(analyze_sentiment_vader)\n",
        "\n",
        "# Accuracy calculation\n",
        "accuracy = accuracy_score(df['sentiment'], df['predicted_sentiment'])\n",
        "print(f\"Accuracy of VADER sentiment analysis: {accuracy:.2f}\")"
      ],
      "metadata": {
        "colab": {
          "base_uri": "https://localhost:8080/"
        },
        "id": "12Ux9CwEHYkJ",
        "outputId": "b29d8e9b-4d60-4804-c3bb-b51014434e06"
      },
      "execution_count": null,
      "outputs": [
        {
          "output_type": "stream",
          "name": "stdout",
          "text": [
            "Sentiment Analysis using VADER:\n",
            "Sentiment: negative\n",
            "Compound Score: -0.9929\n",
            "Accuracy of VADER sentiment analysis: 0.69\n"
          ]
        }
      ]
    },
    {
      "cell_type": "code",
      "source": [
        "vectorizer = TfidfVectorizer(max_features=1000)\n",
        "X_tfidf = vectorizer.fit_transform(df['clean_review'])\n",
        "\n",
        "# Get feature names (keywords)\n",
        "feature_names = vectorizer.get_feature_names_out()\n",
        "\n",
        "# Calculate top keywords based on TF-IDF weights\n",
        "tfidf_scores = X_tfidf.sum(axis=0).A1\n",
        "top_keyword_indices = tfidf_scores.argsort()[::-1][:10]\n",
        "# Top  keywords\n",
        "top_keywords = [feature_names[idx] for idx in top_keyword_indices]\n",
        "\n",
        "# Print top keywords\n",
        "print(\"Top Keywords:\")\n",
        "for idx, keyword in enumerate(top_keywords, start=1):\n",
        "    print(f\"{idx}. {keyword}\")\n",
        "keyword_sentiments = {keyword: [] for keyword in top_keywords}\n",
        "\n",
        "for review, sentiment in zip(X_test, y_pred):\n",
        "    for keyword in top_keywords:\n",
        "        if keyword in review:\n",
        "            keyword_sentiments[keyword].append(sentiment)\n",
        "\n",
        "# Calculate importance based on sentiment distribution\n",
        "keyword_importance = {}\n",
        "keyword_importance_score = []\n",
        "for keyword, sentiments in keyword_sentiments.items():\n",
        "    sentiment_counts = Counter(sentiments)\n",
        "    total_mentions = len(sentiments)\n",
        "    importance_score = sentiment_counts['positive'] / total_mentions\n",
        "    keyword_importance[keyword] = importance_score\n",
        "    keyword_importance_score.append(( importance_score))\n",
        "print(\"Importance Score\")\n",
        "print(keyword_importance_score)\n",
        "print(keyword_importance)\n"
      ],
      "metadata": {
        "colab": {
          "base_uri": "https://localhost:8080/"
        },
        "id": "I6SKs1aUHd-g",
        "outputId": "42741976-0db9-4148-c193-7410a5bb8e07"
      },
      "execution_count": null,
      "outputs": [
        {
          "output_type": "stream",
          "name": "stdout",
          "text": [
            "Top Keywords:\n",
            "1. movie\n",
            "2. film\n",
            "3. one\n",
            "4. like\n",
            "5. good\n",
            "6. time\n",
            "7. character\n",
            "8. story\n",
            "9. really\n",
            "10. see\n",
            "Importance Score\n",
            "[0.47443794271635353, 0.5251822398939695, 0.516301512780386, 0.48842592592592593, 0.5178075271533216, 0.5272808586762076, 0.5222779580997344, 0.5620253164556962, 0.47505781301618766, 0.5200469719845664]\n",
            "{'movie': 0.47443794271635353, 'film': 0.5251822398939695, 'one': 0.516301512780386, 'like': 0.48842592592592593, 'good': 0.5178075271533216, 'time': 0.5272808586762076, 'character': 0.5222779580997344, 'story': 0.5620253164556962, 'really': 0.47505781301618766, 'see': 0.5200469719845664}\n"
          ]
        }
      ]
    },
    {
      "cell_type": "code",
      "source": [
        "# Print actionable insights\n",
        "print(\"\\nActionable Insights:\")\n",
        "for idx, (keyword, importance) in enumerate(sorted_keywords, start=1):\n",
        "    print(f\"{idx}. Keyword: {keyword}, Importance Score: {importance:.2f}\")"
      ],
      "metadata": {
        "colab": {
          "base_uri": "https://localhost:8080/"
        },
        "id": "Jw--Ng0ZHhmC",
        "outputId": "768cf555-e793-462c-e4f3-b0ff091c87fc"
      },
      "execution_count": null,
      "outputs": [
        {
          "output_type": "stream",
          "name": "stdout",
          "text": [
            "\n",
            "Actionable Insights:\n",
            "1. Keyword: good, Importance Score: 0.74\n",
            "2. Keyword: story, Importance Score: 0.72\n",
            "3. Keyword: character, Importance Score: 0.71\n",
            "4. Keyword: like, Importance Score: 0.70\n",
            "5. Keyword: time, Importance Score: 0.70\n",
            "6. Keyword: see, Importance Score: 0.70\n",
            "7. Keyword: film, Importance Score: 0.69\n",
            "8. Keyword: one, Importance Score: 0.69\n",
            "9. Keyword: really, Importance Score: 0.68\n",
            "10. Keyword: movie, Importance Score: 0.68\n"
          ]
        }
      ]
    },
    {
      "cell_type": "markdown",
      "source": [
        "**Visual Representation**\n",
        "\n",
        "Plotting the relationship between polarity and factor importance.\n",
        "\n",
        "\n",
        "\n",
        "\n"
      ],
      "metadata": {
        "id": "rZ8649H89R4u"
      }
    },
    {
      "cell_type": "code",
      "source": [
        "import matplotlib.pyplot as plt\n",
        "import seaborn as sns\n",
        "# Plot the relationship between sentiment polarity and factor importance\n",
        "plt.figure(figsize=(8, 6))\n",
        "plt.scatter(importance_scores, [tfidf_scores[top_keyword_indices[idx]] for idx, _ in enumerate(importance_scores)],\n",
        "            s=100, c='blue', alpha=0.5)\n",
        "plt.xlabel('Average Sentiment Score')\n",
        "plt.ylabel('TF-IDF Importance Score')\n",
        "plt.title('Relationship between Sentiment and Factor Importance')\n",
        "\n",
        "# Annotate the keywords\n",
        "for i, txt in enumerate(top_keywords):\n",
        "    plt.annotate(txt, (importance_scores[i], tfidf_scores[top_keyword_indices[i]]), fontsize=9)\n",
        "\n",
        "plt.grid(True)\n",
        "plt.tight_layout()\n",
        "plt.show()"
      ],
      "metadata": {
        "colab": {
          "base_uri": "https://localhost:8080/",
          "height": 607
        },
        "id": "0qQmOUMiWJcW",
        "outputId": "a11c265e-1778-4135-c244-4f71b4a4cade"
      },
      "execution_count": null,
      "outputs": [
        {
          "output_type": "display_data",
          "data": {
            "text/plain": [
              "<Figure size 800x600 with 1 Axes>"
            ],
            "image/png": "[encoded data removed]"
          },
          "metadata": {}
        }
      ]
    },
    {
      "cell_type": "markdown",
      "source": [
        "Plotting the Importance of Keywords based on Sentiment Analysis.\n",
        "\n"
      ],
      "metadata": {
        "id": "OX8ykCr7Wa93"
      }
    },
    {
      "cell_type": "code",
      "source": [
        "# Sort keywords by importance score\n",
        "sorted_keywords = sorted(keyword_importance.items(), key=lambda x: x[1], reverse=True)\n",
        "print(\"sorted_keywords\")\n",
        "# Visualize importance scores\n",
        "plt.figure(figsize=(8, 6))\n",
        "keywords = [keyword for keyword, importance in sorted_keywords]\n",
        "importance_scores = [importance for keyword, importance in sorted_keywords]\n",
        "sns.barplot(x=importance_scores, y=keywords, palette='viridis')\n",
        "plt.xlabel('Importance Score Proportion of  Sentiments')\n",
        "plt.ylabel('Keywords')\n",
        "plt.title('Importance of Keywords based on Sentiment Analysis')\n",
        "plt.xlim(0, 1)\n",
        "plt.show()"
      ],
      "metadata": {
        "colab": {
          "base_uri": "https://localhost:8080/",
          "height": 668
        },
        "id": "h0KRBxr6QQ0c",
        "outputId": "46f7c0bb-e8a8-4d55-fc35-029564d13141"
      },
      "execution_count": null,
      "outputs": [
        {
          "output_type": "stream",
          "name": "stdout",
          "text": [
            "sorted_keywords\n"
          ]
        },
        {
          "output_type": "stream",
          "name": "stderr",
          "text": [
            "<ipython-input-121-d2748b333ed8>:8: FutureWarning: \n",
            "\n",
            "Passing `palette` without assigning `hue` is deprecated and will be removed in v0.14.0. Assign the `y` variable to `hue` and set `legend=False` for the same effect.\n",
            "\n",
            "  sns.barplot(x=importance_scores, y=keywords, palette='viridis')\n"
          ]
        },
        {
          "output_type": "display_data",
          "data": {
            "text/plain": [
              "<Figure size 800x600 with 1 Axes>"
            ],
            "image/png": "[encoded data removed]"
          },
          "metadata": {}
        }
      ]
    },
    {
      "cell_type": "markdown",
      "source": [
        "Plotting the Relationship between Sentiment and Factor Importance\n",
        "\n",
        "\n"
      ],
      "metadata": {
        "id": "iWSkJ-ROWkmA"
      }
    },
    {
      "cell_type": "code",
      "source": [
        "\n",
        "plt.figure(figsize=(5,4))\n",
        "plt.scatter(keywords,keyword_importance_score, s=100, c='blue', alpha=0.5)\n",
        "plt.xlabel('Sentiment Polarity Score')\n",
        "plt.ylabel('Importance Score')\n",
        "plt.title('Relationship between Sentiment and Factor Importance')\n",
        "\n",
        "plt.grid(True)\n",
        "plt.tight_layout()\n",
        "plt.show()\n"
      ],
      "metadata": {
        "colab": {
          "base_uri": "https://localhost:8080/",
          "height": 407
        },
        "id": "AAK5SP1nNdJS",
        "outputId": "752b1b55-8219-4961-d880-3fa2f69fb145"
      },
      "execution_count": null,
      "outputs": [
        {
          "output_type": "display_data",
          "data": {
            "text/plain": [
              "<Figure size 500x400 with 1 Axes>"
            ],
            "image/png": "[encoded data removed]"
          },
          "metadata": {}
        }
      ]
    },
    {
      "cell_type": "markdown",
      "source": [
        "Plotting the Sentiment Distribution in Reviews"
      ],
      "metadata": {
        "id": "yty0z7geWr7X"
      }
    },
    {
      "cell_type": "code",
      "source": [
        "sentiment_counts = df['predicted_sentiment'].value_counts()\n",
        "sentiment_labels = sentiment_counts.index.to_list()\n",
        "sentiment_values = sentiment_counts.to_list()\n",
        "\n",
        "plt.figure(figsize=(8, 6))\n",
        "plt.pie(sentiment_values, labels=sentiment_labels, autopct=\"%1.1f%%\", startangle=140)\n",
        "plt.title('Sentiment Distribution in Reviews')\n",
        "plt.axis('equal')\n",
        "plt.show()"
      ],
      "metadata": {
        "colab": {
          "base_uri": "https://localhost:8080/",
          "height": 524
        },
        "id": "o568m7hFw2Mx",
        "outputId": "56f9ca88-2535-47c3-979e-12260f7cd5d5"
      },
      "execution_count": null,
      "outputs": [
        {
          "output_type": "display_data",
          "data": {
            "text/plain": [
              "<Figure size 800x600 with 1 Axes>"
            ],
            "image/png": "[encoded data removed]"
          },
          "metadata": {}
        }
      ]
    },
    {
      "cell_type": "markdown",
      "source": [
        "**Results:**\n",
        "\n",
        "**Extract Key Factors:**\n",
        "\n",
        "Phrases or keywords that are most frequently mentioned in customer feedback are,\n",
        "\n",
        "Top Keywords:\n",
        "1. movie\n",
        "2. film\n",
        "3. one\n",
        "4. like\n",
        "5. good\n",
        "6. time\n",
        "7. character\n",
        "8. story\n",
        "9. really\n",
        "10. see\n",
        "\n",
        "**Analyze Sentiment:**\n",
        "By comparing  lexicon-based methods, for  load sentiment lexicons and compute sentiment scores and Used  machine learning approaches SVM Support vector Machine for spliting  into training and test sets, train the model, and evaluate its performance.\n",
        "\n",
        "Report for the SVM:\n",
        "\n",
        "Accuracy: 0.86\n",
        "\n",
        "Confusion Matrix:\n",
        "\n",
        " [[4186  775]\n",
        "\n",
        " [ 631 4408]]\n",
        "\n",
        "Classification  Report :                precision    recall  f1-score   support\n",
        "\n",
        "    negative       0.87      0.84      0.86      4961\n",
        "    positive       0.85      0.87      0.86      5039\n",
        "\n",
        "    accuracy                           0.86     10000\n",
        "\n",
        "    macro avg       0.86      0.86      0.86     10000\n",
        "\n",
        "    weighted avg       0.86      0.86      0.86     10000\n",
        "\n",
        "Report for VADER:\n",
        "\n",
        "Sentiment Analysis using VADER:\n",
        "\n",
        "Sentiment: Negative\n",
        "\n",
        "Compound Score: -0.9929\n",
        "\n",
        "Accuracy of VADER sentiment analysis: 0.69\n",
        "\n",
        "\n",
        "Calculate Importance:\n",
        "\n",
        "Importance Score of the top keyword:\n",
        "\n",
        "{'movie': 0.47443794271635353, 'film': 0.5251822398939695, 'one': 0.516301512780386, 'like': 0.48842592592592593, 'good': 0.5178075271533216, 'time': 0.5272808586762076, 'character': 0.5222779580997344, 'story': 0.5620253164556962, 'really': 0.47505781301618766, 'see': 0.5200469719845664}\n",
        "\n",
        "\n",
        "\n",
        "Actionable Insights:\n",
        "\n",
        "1. Keyword: good, Importance Score: 0.74\n",
        "2. Keyword: story, Importance Score: 0.72\n",
        "3. Keyword: character, Importance Score: 0.71\n",
        "4. Keyword: like, Importance Score: 0.70\n",
        "5. Keyword: time, Importance Score: 0.70\n",
        "6. Keyword: see, Importance Score: 0.70\n",
        "7. Keyword: film, Importance Score: 0.69\n",
        "8. Keyword: one, Importance Score: 0.69\n",
        "9. Keyword: really, Importance Score: 0.68\n",
        "10. Keyword: movie, Importance Score: 0.68\n",
        "\n",
        "\n"
      ],
      "metadata": {
        "id": "7_tNVKMYXDk1"
      }
    }
  ]
}